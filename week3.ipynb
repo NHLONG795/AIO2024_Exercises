{
 "cells": [
  {
   "cell_type": "code",
   "execution_count": 38,
   "metadata": {},
   "outputs": [],
   "source": [
    "from torch import nn\n",
    "import torch\n",
    "\n",
    "class Softmax(nn.Module):\n",
    "    def __init__(self):\n",
    "        super(Softmax, self).__init__()\n",
    "    \n",
    "    def forward(self, x):\n",
    "        return x.exp() / x.exp().sum(-1).unsqueeze(-1)\n",
    "    \n",
    "\n",
    "class Softmax_stable(nn.Module):\n",
    "    def __init__(self):\n",
    "        super(Softmax_stable, self).__init__()\n",
    "\n",
    "    def forward(self, x):\n",
    "        exps = (x - x.max(-1)[0]).exp()\n",
    "        return exps / exps.sum(-1).unsqueeze(-1)"
   ]
  },
  {
   "cell_type": "code",
   "execution_count": 31,
   "metadata": {},
   "outputs": [
    {
     "data": {
      "text/plain": [
       "tensor([0.0900, 0.2447, 0.6652])"
      ]
     },
     "execution_count": 31,
     "metadata": {},
     "output_type": "execute_result"
    }
   ],
   "source": [
    "data = torch.Tensor ([1 , 2 , 3])\n",
    "\n",
    "softmax = Softmax()\n",
    "output = softmax(data)\n",
    "output"
   ]
  },
  {
   "cell_type": "code",
   "execution_count": 40,
   "metadata": {},
   "outputs": [
    {
     "data": {
      "text/plain": [
       "tensor([0.0900, 0.2447, 0.6652])"
      ]
     },
     "execution_count": 40,
     "metadata": {},
     "output_type": "execute_result"
    }
   ],
   "source": [
    "data = torch.Tensor ([1 , 2 , 3])\n",
    "softmax_stable = Softmax_stable()\n",
    "output = softmax_stable(data)\n",
    "output"
   ]
  },
  {
   "cell_type": "markdown",
   "metadata": {},
   "source": [
    "exercise 2"
   ]
  },
  {
   "cell_type": "code",
   "execution_count": 42,
   "metadata": {},
   "outputs": [],
   "source": [
    "from abc import ABC, abstractmethod\n",
    "class Person:\n",
    "    def __init__(self, name, yob):\n",
    "        self.name = name\n",
    "        self.yob = yob\n",
    "    \n",
    "    @abstractmethod\n",
    "    def describe(self):\n",
    "        pass\n",
    "    \n",
    "\n",
    "class Student(Person):\n",
    "    def __init__(self, name, yob, grade):\n",
    "        super(Student, self).__init__(name, yob)\n",
    "        self.grade = grade\n",
    "\n",
    "    def describe(self):\n",
    "        print(f\"Student - Name: {self.name} - YOB: {self.yob} - Grade: {self.grade}\")\n",
    "\n",
    "class Teacher(Person):\n",
    "    def __init__(self, name, yob, subject):\n",
    "        super(Teacher, self).__init__(name, yob)\n",
    "        self.subject = subject\n",
    "\n",
    "    def describe(self):\n",
    "        print(f\"Teacher - Name: {self.name} - YOB: {self.yob} - Subject: {self.subject}\")\n",
    "\n",
    "\n",
    "class Doctor(Person):\n",
    "    def __init__(self, name, yob, specialist):\n",
    "        super(Doctor, self).__init__(name, yob)\n",
    "        self.specialist = specialist\n",
    "\n",
    "    def describe(self):\n",
    "        print(f\"Doctor - Name: {self.name} - YOB: {self.yob} - Specialist: {self.specialist}\")\n",
    "\n",
    "\n",
    "\n",
    "class Ward:\n",
    "    def __init__(self, name):\n",
    "        self.name = name\n",
    "        self.__people_list = []\n",
    "        \n",
    "    def add_person(self, person):\n",
    "        self.__people_list.append(person)\n",
    "\n",
    "    def describe(self):\n",
    "        print(f\"Ward Name: {self.name}\")\n",
    "        for person in self.__people_list:\n",
    "            person.describe()\n",
    "\n",
    "    def count_doctor(self):\n",
    "        count = 0\n",
    "        for person in self.__people_list:\n",
    "            if isinstance(person, Doctor):\n",
    "                count += 1\n",
    "        return count\n",
    "\n",
    "    def sort_age(self):\n",
    "        self.__people_list.sort(key=lambda x: x.yob)\n",
    "        \n",
    "    def compute_average(self):\n",
    "        sum = 0\n",
    "        for person in self.__people_list:\n",
    "            sum += person.yob\n",
    "        return int(sum / len(self.__people_list))"
   ]
  },
  {
   "cell_type": "code",
   "execution_count": 43,
   "metadata": {},
   "outputs": [
    {
     "name": "stdout",
     "output_type": "stream",
     "text": [
      "Student - Name:  studentA  - YOB: 2010 - Grade: 7\n"
     ]
    }
   ],
   "source": [
    "\n",
    "student1 = Student ( name =\" studentA \", yob =2010 , grade =\"7\")\n",
    "student1.describe ()"
   ]
  },
  {
   "cell_type": "code",
   "execution_count": 44,
   "metadata": {},
   "outputs": [
    {
     "name": "stdout",
     "output_type": "stream",
     "text": [
      "Teacher - Name: teacherA  - YOB: 1969 - Subject: Math\n"
     ]
    }
   ],
   "source": [
    "teacher1 = Teacher( name =\"teacherA \", yob =1969 , subject =\"Math\")\n",
    "teacher1.describe()"
   ]
  },
  {
   "cell_type": "code",
   "execution_count": 45,
   "metadata": {},
   "outputs": [
    {
     "name": "stdout",
     "output_type": "stream",
     "text": [
      "Doctor - Name: doctorA  - YOB: 1945 - Specialist:  Endocrinologists \n"
     ]
    }
   ],
   "source": [
    "doctor1 = Doctor( name =\"doctorA \", yob =1945 , specialist =\" Endocrinologists \")\n",
    "doctor1.describe ()"
   ]
  },
  {
   "cell_type": "code",
   "execution_count": 46,
   "metadata": {},
   "outputs": [
    {
     "name": "stdout",
     "output_type": "stream",
     "text": [
      "Ward Name: Ward1 \n",
      "Student - Name:  studentA  - YOB: 2010 - Grade: 7\n",
      "Teacher - Name: teacherA  - YOB: 1969 - Subject: Math\n",
      "Teacher - Name: teacherB  - YOB: 1995 - Subject:  History \n",
      "Doctor - Name: doctorA  - YOB: 1945 - Specialist:  Endocrinologists \n",
      "Doctor - Name: doctorB  - YOB: 1975 - Specialist:  Cardiologists \n"
     ]
    }
   ],
   "source": [
    "\n",
    "teacher2 = Teacher ( name =\"teacherB \", yob =1995 , subject =\" History \")\n",
    "doctor2 = Doctor ( name =\"doctorB \", yob =1975 , specialist =\" Cardiologists \")\n",
    "ward1 = Ward ( name =\"Ward1 \")\n",
    "ward1 . add_person ( student1 )\n",
    "ward1 . add_person ( teacher1 )\n",
    "ward1 . add_person ( teacher2 )\n",
    "ward1 . add_person ( doctor1 )\n",
    "ward1 . add_person ( doctor2 )\n",
    "ward1 . describe ()"
   ]
  },
  {
   "cell_type": "code",
   "execution_count": 49,
   "metadata": {},
   "outputs": [
    {
     "name": "stdout",
     "output_type": "stream",
     "text": [
      "\n",
      " Number of doctors : 2\n"
     ]
    }
   ],
   "source": [
    "print(f\"\\n Number of doctors : {ward1.count_doctor()}\")"
   ]
  },
  {
   "cell_type": "code",
   "execution_count": 50,
   "metadata": {},
   "outputs": [
    {
     "name": "stdout",
     "output_type": "stream",
     "text": [
      "\n",
      " After sorting Age of Ward1 people \n",
      "Ward Name: Ward1 \n",
      "Doctor - Name: doctorA  - YOB: 1945 - Specialist:  Endocrinologists \n",
      "Teacher - Name: teacherA  - YOB: 1969 - Subject: Math\n",
      "Doctor - Name: doctorB  - YOB: 1975 - Specialist:  Cardiologists \n",
      "Teacher - Name: teacherB  - YOB: 1995 - Subject:  History \n",
      "Student - Name:  studentA  - YOB: 2010 - Grade: 7\n"
     ]
    }
   ],
   "source": [
    "print(\"\\n After sorting Age of Ward1 people \")\n",
    "ward1 . sort_age ()\n",
    "ward1 . describe ()"
   ]
  },
  {
   "cell_type": "markdown",
   "metadata": {},
   "source": [
    "Exercise 3"
   ]
  },
  {
   "cell_type": "code",
   "execution_count": 52,
   "metadata": {},
   "outputs": [],
   "source": [
    "class Stack:\n",
    "    def __init__(self, capicity):\n",
    "        self.__data = [] \n",
    "        self.__capicity = capicity\n",
    "\n",
    "    def is_empty(self):\n",
    "        return len(self.__data) == 0\n",
    "    \n",
    "    def is_full(self):\n",
    "        return len(self.__data) == self.__capicity\n",
    "\n",
    "    def push(self, value):\n",
    "        if self.is_full():\n",
    "            print(\"Stack is full\")\n",
    "            return\n",
    "        self.__data.append(value)\n",
    "\n",
    "    def pop(self):\n",
    "        if self.is_empty():\n",
    "            print(\"Stack is empty\")\n",
    "            return\n",
    "        popped_value = self.__data[-1]\n",
    "        self.__data.pop()\n",
    "        return popped_value\n",
    "    \n",
    "    def top(self):\n",
    "        if self.is_empty():\n",
    "            print(\"Stack is empty\")\n",
    "            return\n",
    "        return self.__data[-1]\n",
    "        "
   ]
  },
  {
   "cell_type": "code",
   "execution_count": 58,
   "metadata": {},
   "outputs": [
    {
     "name": "stdout",
     "output_type": "stream",
     "text": [
      "True\n"
     ]
    }
   ],
   "source": [
    "stack1 = Stack(capicity=5)\n",
    "print(stack1.is_empty())"
   ]
  },
  {
   "cell_type": "code",
   "execution_count": 59,
   "metadata": {},
   "outputs": [
    {
     "name": "stdout",
     "output_type": "stream",
     "text": [
      "False\n"
     ]
    }
   ],
   "source": [
    "print(stack1.is_full())"
   ]
  },
  {
   "cell_type": "code",
   "execution_count": 60,
   "metadata": {},
   "outputs": [],
   "source": [
    "stack1.push(1)\n",
    "stack1.push(2)\n"
   ]
  },
  {
   "cell_type": "code",
   "execution_count": 61,
   "metadata": {},
   "outputs": [
    {
     "name": "stdout",
     "output_type": "stream",
     "text": [
      "2\n"
     ]
    }
   ],
   "source": [
    "print(stack1.top())"
   ]
  },
  {
   "cell_type": "code",
   "execution_count": 62,
   "metadata": {},
   "outputs": [
    {
     "name": "stdout",
     "output_type": "stream",
     "text": [
      "2\n"
     ]
    }
   ],
   "source": [
    "print(stack1.pop())"
   ]
  },
  {
   "cell_type": "code",
   "execution_count": 63,
   "metadata": {},
   "outputs": [
    {
     "name": "stdout",
     "output_type": "stream",
     "text": [
      "1\n"
     ]
    }
   ],
   "source": [
    "print(stack1.top())"
   ]
  },
  {
   "cell_type": "code",
   "execution_count": 64,
   "metadata": {},
   "outputs": [
    {
     "name": "stdout",
     "output_type": "stream",
     "text": [
      "1\n"
     ]
    }
   ],
   "source": [
    "print(stack1.pop())"
   ]
  },
  {
   "cell_type": "code",
   "execution_count": 65,
   "metadata": {},
   "outputs": [
    {
     "name": "stdout",
     "output_type": "stream",
     "text": [
      "Stack is empty\n",
      "None\n"
     ]
    }
   ],
   "source": [
    "print(stack1.pop())"
   ]
  },
  {
   "cell_type": "code",
   "execution_count": 66,
   "metadata": {},
   "outputs": [
    {
     "name": "stdout",
     "output_type": "stream",
     "text": [
      "True\n"
     ]
    }
   ],
   "source": [
    "print(stack1.is_empty())"
   ]
  },
  {
   "cell_type": "markdown",
   "metadata": {},
   "source": [
    "Excercise 4"
   ]
  },
  {
   "cell_type": "code",
   "execution_count": 67,
   "metadata": {},
   "outputs": [],
   "source": [
    "class Queue:\n",
    "    def __init__(self, capicity):\n",
    "        self.__data = [] \n",
    "        self.__capicity = capicity\n",
    "\n",
    "    def is_empty(self):\n",
    "        return len(self.__data) == 0\n",
    "    \n",
    "    def is_full(self):\n",
    "        return len(self.__data) == self.__capicity\n",
    "\n",
    "    def enqueue(self, value):\n",
    "        if self.is_full():\n",
    "            print(\"Queue is full\")\n",
    "            return\n",
    "        self.__data.append(value)\n",
    "\n",
    "    def dequeue(self):\n",
    "        if self.is_empty():\n",
    "            print(\"Queue is empty\")\n",
    "            return\n",
    "        dequeued_value = self.__data[0]\n",
    "        self.__data.pop(0)\n",
    "        return dequeued_value\n",
    "    \n",
    "    def front(self):\n",
    "        if self.is_empty():\n",
    "            print(\"Queue is empty\")\n",
    "            return\n",
    "        return self.__data[0]"
   ]
  },
  {
   "cell_type": "code",
   "execution_count": 68,
   "metadata": {},
   "outputs": [
    {
     "name": "stdout",
     "output_type": "stream",
     "text": [
      "True\n"
     ]
    }
   ],
   "source": [
    "queue1 = Queue(capicity=5)\n",
    "print(queue1.is_empty())"
   ]
  },
  {
   "cell_type": "code",
   "execution_count": 69,
   "metadata": {},
   "outputs": [],
   "source": [
    "queue1.enqueue(1)\n",
    "queue1.enqueue(2)\n",
    "queue1.enqueue(3)"
   ]
  },
  {
   "cell_type": "code",
   "execution_count": 70,
   "metadata": {},
   "outputs": [
    {
     "data": {
      "text/plain": [
       "False"
      ]
     },
     "execution_count": 70,
     "metadata": {},
     "output_type": "execute_result"
    }
   ],
   "source": [
    "queue1.is_full()"
   ]
  },
  {
   "cell_type": "code",
   "execution_count": 71,
   "metadata": {},
   "outputs": [
    {
     "data": {
      "text/plain": [
       "1"
      ]
     },
     "execution_count": 71,
     "metadata": {},
     "output_type": "execute_result"
    }
   ],
   "source": [
    "queue1.front()"
   ]
  },
  {
   "cell_type": "code",
   "execution_count": 72,
   "metadata": {},
   "outputs": [
    {
     "data": {
      "text/plain": [
       "1"
      ]
     },
     "execution_count": 72,
     "metadata": {},
     "output_type": "execute_result"
    }
   ],
   "source": [
    "queue1.dequeue()"
   ]
  },
  {
   "cell_type": "code",
   "execution_count": 73,
   "metadata": {},
   "outputs": [
    {
     "data": {
      "text/plain": [
       "2"
      ]
     },
     "execution_count": 73,
     "metadata": {},
     "output_type": "execute_result"
    }
   ],
   "source": [
    "queue1.front()"
   ]
  },
  {
   "cell_type": "code",
   "execution_count": 74,
   "metadata": {},
   "outputs": [
    {
     "data": {
      "text/plain": [
       "2"
      ]
     },
     "execution_count": 74,
     "metadata": {},
     "output_type": "execute_result"
    }
   ],
   "source": [
    "queue1.dequeue()"
   ]
  },
  {
   "cell_type": "code",
   "execution_count": 77,
   "metadata": {},
   "outputs": [
    {
     "data": {
      "text/plain": [
       "3"
      ]
     },
     "execution_count": 77,
     "metadata": {},
     "output_type": "execute_result"
    }
   ],
   "source": [
    "queue1.dequeue()"
   ]
  },
  {
   "cell_type": "code",
   "execution_count": 78,
   "metadata": {},
   "outputs": [
    {
     "data": {
      "text/plain": [
       "True"
      ]
     },
     "execution_count": 78,
     "metadata": {},
     "output_type": "execute_result"
    }
   ],
   "source": [
    "queue1.is_empty()"
   ]
  },
  {
   "cell_type": "markdown",
   "metadata": {},
   "source": [
    "Multi choices"
   ]
  },
  {
   "cell_type": "code",
   "execution_count": 84,
   "metadata": {},
   "outputs": [
    {
     "data": {
      "text/plain": [
       "tensor([0.0900, 0.2447, 0.6652])"
      ]
     },
     "execution_count": 84,
     "metadata": {},
     "output_type": "execute_result"
    }
   ],
   "source": [
    "import torch\n",
    "import torch . nn as nn\n",
    "\n",
    "class SoftmaxStable ( nn . Module ):\n",
    "    def __init__ ( self ) :\n",
    "        super () . __init__ ()\n",
    "\n",
    "    def forward ( self , x ) :\n",
    "        x_max = torch .max(x , dim =0 , keepdims = True )\n",
    "        x_exp = torch . exp ( x - x_max . values )\n",
    "        partition = x_exp .sum (0 , keepdims = True )\n",
    "        return x_exp / partition\n",
    "\n",
    "data = torch . Tensor ([1 , 2 , 3])\n",
    "softmax_stable = SoftmaxStable ()\n",
    "output = softmax_stable ( data )\n",
    "assert round ( output [ -1]. item () , 2) == 0.67\n",
    "output"
   ]
  },
  {
   "cell_type": "code",
   "execution_count": null,
   "metadata": {},
   "outputs": [],
   "source": []
  }
 ],
 "metadata": {
  "kernelspec": {
   "display_name": "Python 3",
   "language": "python",
   "name": "python3"
  },
  "language_info": {
   "codemirror_mode": {
    "name": "ipython",
    "version": 3
   },
   "file_extension": ".py",
   "mimetype": "text/x-python",
   "name": "python",
   "nbconvert_exporter": "python",
   "pygments_lexer": "ipython3",
   "version": "3.12.2"
  }
 },
 "nbformat": 4,
 "nbformat_minor": 2
}
